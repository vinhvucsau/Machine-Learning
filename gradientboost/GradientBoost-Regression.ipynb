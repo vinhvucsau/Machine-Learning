{
 "cells": [
  {
   "cell_type": "code",
   "execution_count": 13,
   "metadata": {},
   "outputs": [],
   "source": [
    "from sklearn.tree import DecisionTreeRegressor\n",
    "from sklearn.metrics import mean_absolute_error,mean_squared_error\n",
    "import pandas as pd\n",
    "from sklearn.model_selection import train_test_split\n",
    "import numpy as np"
   ]
  },
  {
   "cell_type": "code",
   "execution_count": 14,
   "metadata": {},
   "outputs": [],
   "source": [
    "class GradientBoost:\n",
    "    def __init__(self, max_depth=8, min_samples_split=5, min_samples_leaf=5, max_features=3, learning_rate=0.1, num_iter=50):\n",
    "        self.max_depth = max_depth\n",
    "        self.min_samples_split = min_samples_split\n",
    "        self.min_samples_leaf = min_samples_leaf\n",
    "        self.max_features = max_features\n",
    "        self.learning_rate = learning_rate\n",
    "        self.num_iter = num_iter\n",
    "        self.F0 = None\n",
    "        self.trees = []\n",
    "\n",
    "    def loss(y,y_pred):\n",
    "        return 1/2 * 1/len(y) * np.sum(np.square(y - y_pred))\n",
    "\n",
    "    def _gradient(self,y,y_pred):\n",
    "        return np.array(y) - y_pred\n",
    "\n",
    "    def _create_decision_tree(self,X,y):\n",
    "        tree_regressor = DecisionTreeRegressor(max_depth=self.max_depth,\n",
    "                                               min_samples_split=self.min_samples_split,\n",
    "                                               min_samples_leaf=self.min_samples_leaf,\n",
    "                                               max_features=self.max_features)\n",
    "        tree_regressor.fit(X,y)\n",
    "        return tree_regressor\n",
    "\n",
    "    def fit(self,X,y):\n",
    "        self.F0 = np.mean(y)\n",
    "        pred = np.array([self.F0]* len(y)).reshape(-1,1)\n",
    "        y = np.array(y).reshape(-1,1)\n",
    "        for i in range(self.num_iter):\n",
    "            grads = self._gradient(y, pred)\n",
    "            base = self._create_decision_tree(X, grads)\n",
    "            r = (base.predict(X)).reshape(len(X),1)\n",
    "            pred += self.learning_rate * r\n",
    "            self.trees.append(base)\n",
    "\n",
    "    def predict(self,X):\n",
    "        pred_0 = np.array([self.F0] * len(X))\n",
    "        pred = pred_0.reshape(-1,1)\n",
    "        for i in range(self.num_iter):\n",
    "            temp = (self.trees[i].predict(X)).reshape(len(X),1)\n",
    "            pred += self.learning_rate * temp\n",
    "        return pred"
   ]
  },
  {
   "cell_type": "code",
   "execution_count": 15,
   "metadata": {},
   "outputs": [],
   "source": [
    "df = pd.read_csv('../datasets/Advertising.csv')\n",
    "X = df.drop(columns='sales')\n",
    "y = df['sales']\n",
    "X_train, X_test, y_train, y_test = train_test_split(X,y,test_size=0.3, random_state=42)"
   ]
  },
  {
   "cell_type": "markdown",
   "metadata": {},
   "source": [
    "# Using user-defined model"
   ]
  },
  {
   "cell_type": "code",
   "execution_count": 16,
   "metadata": {},
   "outputs": [
    {
     "name": "stdout",
     "output_type": "stream",
     "text": [
      "Mean squared error: 0.586\n",
      "Mean absolute error: 0.599\n"
     ]
    }
   ],
   "source": [
    "gg_mdl = GradientBoost()\n",
    "gg_mdl.fit(X_train,y_train)\n",
    "y_pred = gg_mdl.predict(X_test)\n",
    "mae = mean_absolute_error(y_test,y_pred)\n",
    "mse = mean_squared_error(y_test, y_pred)\n",
    "print(f'Mean squared error: {round(mse,3)}')\n",
    "print(f'Mean absolute error: {round(mae,3)}')"
   ]
  },
  {
   "cell_type": "markdown",
   "metadata": {},
   "source": [
    "# Using sklearn library "
   ]
  },
  {
   "cell_type": "code",
   "execution_count": 17,
   "metadata": {},
   "outputs": [
    {
     "name": "stdout",
     "output_type": "stream",
     "text": [
      "Mean squared error: 0.51\n",
      "Mean absolute error: 0.573\n"
     ]
    }
   ],
   "source": [
    "from sklearn.ensemble import GradientBoostingRegressor\n",
    "\n",
    "sk_mdl = GradientBoostingRegressor(max_depth=8, \n",
    "                                   min_samples_split=5, min_samples_leaf=5, max_features=3, \n",
    "                                   learning_rate=0.1, n_estimators=50)\n",
    "sk_mdl.fit(X_train,y_train)\n",
    "y_pred = sk_mdl.predict(X_test)\n",
    "\n",
    "mae = mean_absolute_error(y_test,y_pred)\n",
    "mse = mean_squared_error(y_test, y_pred)\n",
    "print(f'Mean squared error: {round(mse,3)}')\n",
    "print(f'Mean absolute error: {round(mae,3)}')"
   ]
  },
  {
   "cell_type": "code",
   "execution_count": null,
   "metadata": {},
   "outputs": [],
   "source": []
  }
 ],
 "metadata": {
  "kernelspec": {
   "display_name": "Python 3",
   "language": "python",
   "name": "python3"
  },
  "language_info": {
   "codemirror_mode": {
    "name": "ipython",
    "version": 3
   },
   "file_extension": ".py",
   "mimetype": "text/x-python",
   "name": "python",
   "nbconvert_exporter": "python",
   "pygments_lexer": "ipython3",
   "version": "3.11.7"
  }
 },
 "nbformat": 4,
 "nbformat_minor": 2
}
