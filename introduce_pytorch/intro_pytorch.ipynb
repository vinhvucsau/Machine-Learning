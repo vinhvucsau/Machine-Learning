{
 "cells": [
  {
   "cell_type": "markdown",
   "metadata": {},
   "source": [
    "# Importance function in pytorch"
   ]
  },
  {
   "cell_type": "code",
   "execution_count": 3,
   "metadata": {},
   "outputs": [],
   "source": [
    "import torch"
   ]
  },
  {
   "cell_type": "markdown",
   "metadata": {},
   "source": [
    "### Compute with tensor"
   ]
  },
  {
   "cell_type": "code",
   "execution_count": 4,
   "metadata": {},
   "outputs": [
    {
     "name": "stdout",
     "output_type": "stream",
     "text": [
      "x:\n",
      " tensor([1., 2., 3., 4.])\n",
      "y= 5\n",
      "Squared_diff: tensor([16.,  9.,  4.,  1.])\n"
     ]
    }
   ],
   "source": [
    "# Create tensor\n",
    "x = torch.tensor([1.0, 2.0, 3.0, 4.0])\n",
    "y= 5 \n",
    "squared_diff = (x-y)**2\n",
    "print(f'x:\\n {x}')\n",
    "print(f'y= {y}')\n",
    "print(f'Squared_diff: {squared_diff}')"
   ]
  },
  {
   "cell_type": "markdown",
   "metadata": {},
   "source": [
    "### Mean Squared Error"
   ]
  },
  {
   "cell_type": "code",
   "execution_count": 2,
   "metadata": {},
   "outputs": [
    {
     "name": "stdout",
     "output_type": "stream",
     "text": [
      "x:\n",
      " tensor([1., 2., 3., 4.])\n",
      "y= tensor([5., 5., 5., 5.])\n",
      "mse: 7.5\n"
     ]
    }
   ],
   "source": [
    "\n",
    "# Create tensor\n",
    "x = torch.tensor([1.0, 2.0, 3.0, 4.0])\n",
    "y = torch.tensor([5.0, 5.0, 5.0, 5.0])\n",
    "\n",
    "# Compute MSE \n",
    "loss_fn = torch.nn.MSELoss()\n",
    "mse = loss_fn(x,y)\n",
    "\n",
    "print(f'x:\\n {x}')\n",
    "print(f'y= {y}')\n",
    "print(f'mse: {mse}')"
   ]
  },
  {
   "cell_type": "markdown",
   "metadata": {},
   "source": [
    "### Concatenate "
   ]
  },
  {
   "cell_type": "code",
   "execution_count": 6,
   "metadata": {},
   "outputs": [
    {
     "name": "stdout",
     "output_type": "stream",
     "text": [
      "Tensor_dim_0:\n",
      "tensor([[1, 2],\n",
      "        [3, 4],\n",
      "        [3, 4],\n",
      "        [5, 6]])\n",
      "Tensor_dim_1:\n",
      "tensor([[1, 2, 3, 4],\n",
      "        [3, 4, 5, 6]])\n"
     ]
    }
   ],
   "source": [
    "x = torch.tensor([[1, 2],\n",
    "                  [3, 4]])\n",
    "y = torch.tensor([[3, 4],\n",
    "                  [5, 6]])\n",
    "\n",
    "# Concat tensors along the first dim = 0 \n",
    "tensor_dim_0  =torch.cat((x,y),dim= 0)\n",
    "print(f'Tensor_dim_0:\\n{tensor_dim_0}')\n",
    "\n",
    "# Concat tensors along the second dim = 1\n",
    "tensor_dim_1  =torch.cat((x,y),dim= 1)\n",
    "print(f'Tensor_dim_1:\\n{tensor_dim_1}')"
   ]
  },
  {
   "cell_type": "markdown",
   "metadata": {},
   "source": [
    "### Argument Max \n",
    "Find  a index value with the greatest value\n",
    "(Tìm giá trị index lấy đúng 1 cái lớn nhất đầu tiên  mà ở đó có giá trị lớn nhất) \n",
    "\n",
    "-You can using argmax to find one hot encode to imporve speed \n"
   ]
  },
  {
   "cell_type": "code",
   "execution_count": 10,
   "metadata": {},
   "outputs": [
    {
     "name": "stdout",
     "output_type": "stream",
     "text": [
      "data:\n",
      "tensor([[2, 7],\n",
      "        [2, 3],\n",
      "        [0, 2]])\n",
      "argmax with dim = 0 :\n",
      "tensor([0, 0])\n",
      "argmax with dim = 0 :\n",
      "tensor([1, 1, 1])\n"
     ]
    }
   ],
   "source": [
    "# Create a 3x2 tensor\n",
    "data = torch.randint(low =0 ,high = 9,size = (3,2))\n",
    "print(f'data:\\n{data}')\n",
    "\n",
    "# Compute argmax across the rows with dim = 0 \n",
    "argmax_dim_0 =torch.argmax(data,dim=0)\n",
    "print(f'argmax with dim = 0 :\\n{argmax_dim_0}')\n",
    "\n",
    "\n",
    "# Compute argmax across the columns with dim = 1 \n",
    "argmax_dim_1 =torch.argmax(data,dim=1)\n",
    "print(f'argmax with dim = 0 :\\n{argmax_dim_1}')"
   ]
  },
  {
   "cell_type": "markdown",
   "metadata": {},
   "source": [
    "### Gradient computation ( Đạo hàm)"
   ]
  },
  {
   "cell_type": "code",
   "execution_count": 12,
   "metadata": {},
   "outputs": [
    {
     "name": "stdout",
     "output_type": "stream",
     "text": [
      "z: 14.0\n",
      "Gradient of z w.r.t  x: 12.0\n"
     ]
    }
   ],
   "source": [
    "# Create a tesor\n",
    "x = torch.tensor(2.0,requires_grad=True)\n",
    "\n",
    "# Operation\n",
    "y= x ** 2 \n",
    "z =3*y + 2\n",
    "print(f'z: {z}')\n",
    "\n",
    "# Backpropagate to compute gradients\n",
    "z.backward()\n",
    "\n",
    "# Print the gradient. dz/dx at  x=2.0\n",
    "print(f\"Gradient of z w.r.t  x: {x.grad}\")"
   ]
  },
  {
   "cell_type": "markdown",
   "metadata": {},
   "source": [
    "### Linear layer"
   ]
  },
  {
   "cell_type": "code",
   "execution_count": 14,
   "metadata": {},
   "outputs": [
    {
     "name": "stdout",
     "output_type": "stream",
     "text": [
      "b - Parameter containing:\n",
      "tensor([0.0400], requires_grad=True)\n",
      "w - Parameter containing:\n",
      "tensor([-0.3400], requires_grad=True)\n"
     ]
    }
   ],
   "source": [
    "import torch.nn as nn \n",
    "# Create a linear layer\n",
    "# first parameter is input layer Second parameter is output layer\n",
    "linear = nn.Linear(1,1)\n",
    "\n",
    "# Set values \n",
    "linear.bias.data = torch.Tensor([0.04])\n",
    "linear.weight.data = torch.Tensor([-0.34])\n",
    "\n",
    "print(f'b - {linear.bias}')\n",
    "print(f'w - {linear.weight}')\n",
    "\n",
    "# Loss function and optimizer\n",
    "loss_fn = nn.MSELoss()\n",
    "\n",
    "optimizer = torch.optim.SGD(linear.parameters(),lr=0.01)"
   ]
  }
 ],
 "metadata": {
  "kernelspec": {
   "display_name": "Python 3",
   "language": "python",
   "name": "python3"
  },
  "language_info": {
   "codemirror_mode": {
    "name": "ipython",
    "version": 3
   },
   "file_extension": ".py",
   "mimetype": "text/x-python",
   "name": "python",
   "nbconvert_exporter": "python",
   "pygments_lexer": "ipython3",
   "version": "3.11.7"
  }
 },
 "nbformat": 4,
 "nbformat_minor": 2
}
