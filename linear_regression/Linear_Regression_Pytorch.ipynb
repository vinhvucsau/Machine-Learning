{
 "cells": [
  {
   "cell_type": "markdown",
   "metadata": {},
   "source": [
    "# Linear Regression with Pytorch"
   ]
  },
  {
   "cell_type": "markdown",
   "metadata": {},
   "source": [
    "### Linear Regression with one sample"
   ]
  },
  {
   "cell_type": "code",
   "execution_count": 3,
   "metadata": {},
   "outputs": [],
   "source": [
    "import numpy as np \n",
    "import torch\n",
    "import torch.nn as nn \n",
    "\n",
    "# Data preparation \n",
    "data = np.genfromtxt('../datasets/dataX_Y.csv',delimiter=',')\n",
    "x_data = torch.from_numpy(data[:, 0:1]).float()\n",
    "y_data = torch.from_numpy(data[:,1:]).float()\n",
    "\n",
    "# Create model , Loss and Optimizer\n",
    "linear = nn.Linear(1,1)\n",
    "loss_fn = nn.MSELoss()\n",
    "optimizer = torch.optim.SGD(linear.parameters(),lr= 0.01)\n",
    "# Training\n",
    "epochs =100 \n",
    "for epoch in range(epochs):\n",
    "    y_hat = linear(x_data)\n",
    "    loss =loss_fn(y_hat,y_data)\n",
    "    optimizer.zero_grad()\n",
    "    loss.backward()\n",
    "    optimizer.step()"
   ]
  }
 ],
 "metadata": {
  "kernelspec": {
   "display_name": "Python 3",
   "language": "python",
   "name": "python3"
  },
  "language_info": {
   "codemirror_mode": {
    "name": "ipython",
    "version": 3
   },
   "file_extension": ".py",
   "mimetype": "text/x-python",
   "name": "python",
   "nbconvert_exporter": "python",
   "pygments_lexer": "ipython3",
   "version": "3.11.7"
  }
 },
 "nbformat": 4,
 "nbformat_minor": 2
}
