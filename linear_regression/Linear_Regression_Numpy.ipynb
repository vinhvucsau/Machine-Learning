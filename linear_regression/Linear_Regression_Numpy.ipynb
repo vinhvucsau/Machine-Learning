{
 "cells": [
  {
   "cell_type": "markdown",
   "metadata": {},
   "source": [
    "# Linear Regression with 1-Dimension "
   ]
  },
  {
   "cell_type": "code",
   "execution_count": 48,
   "metadata": {},
   "outputs": [],
   "source": [
    "import pandas as pd\n",
    "import numpy as np\n",
    "\n",
    "from sklearn.model_selection import train_test_split\n",
    "from sklearn.preprocessing import StandardScaler\n",
    "from sklearn.metrics import mean_squared_error\n",
    "import matplotlib.pyplot as plt\n",
    "import seaborn as sns"
   ]
  },
  {
   "cell_type": "markdown",
   "metadata": {},
   "source": [
    "## 1. Data Initialization"
   ]
  },
  {
   "cell_type": "code",
   "execution_count": 49,
   "metadata": {},
   "outputs": [],
   "source": [
    "X = np.array([[1.5, 2, 3.5, 5, 6.5, 7]]).T\n",
    "Y = np.array([[-0.96, -2.71, -3.13, 2.26, 3.45, 2.06]]).T"
   ]
  },
  {
   "cell_type": "markdown",
   "metadata": {},
   "source": [
    "## 2. Run Model"
   ]
  },
  {
   "cell_type": "code",
   "execution_count": 50,
   "metadata": {},
   "outputs": [
    {
     "data": {
      "text/plain": [
       "<matplotlib.collections.PathCollection at 0x1741740f2d0>"
      ]
     },
     "execution_count": 50,
     "metadata": {},
     "output_type": "execute_result"
    },
    {
     "data": {
      "image/png": "[encoded data removed]",
      "text/plain": [
       "<Figure size 640x480 with 1 Axes>"
      ]
     },
     "metadata": {},
     "output_type": "display_data"
    }
   ],
   "source": [
    "class LinearRegressionOneD:\n",
    "    def __init__ (self,X,Y):\n",
    "        XInt = np.hstack((np.ones((X.shape[0],1)), X))\n",
    "        self.beta = np.linalg.pinv(XInt.T @ XInt) @ XInt.T @ Y\n",
    "\n",
    "    def predict(self,x):\n",
    "        beta = self.beta\n",
    "        return beta[1][0]* x+ beta[0][0]\n",
    "\n",
    "Xplot =np.linspace(0,10,1000)\n",
    "li =LinearRegressionOneD(X,Y)\n",
    "plt.xlim(0, 10)  \n",
    "plt.ylim(-6, 6)\n",
    "Yplot = [li.predict(x) for x in Xplot]\n",
    "plt.scatter(Xplot,Yplot,s=1)\n",
    "plt.scatter(X,Y)"
   ]
  },
  {
   "cell_type": "markdown",
   "metadata": {},
   "source": [
    "# Linear Regression with N-Dimension"
   ]
  },
  {
   "cell_type": "code",
   "execution_count": 51,
   "metadata": {},
   "outputs": [],
   "source": [
    "class LinearRegressor():\n",
    "    def __init__(self, lr, epochs):\n",
    "        self.__W = None\n",
    "        self.__losses = []\n",
    "        self.__lr = lr\n",
    "        self.__epochs = epochs\n",
    "\n",
    "    def _predict(self,X):\n",
    "        return np.dot(X,self.__W)\n",
    "    \n",
    "    def predict(self,X): \n",
    "        X = np.hstack((np.ones((X.shape[0],1)), X))\n",
    "        return self._predict(X)\n",
    "\n",
    "    def _computeLoss(self, y, y_hat):\n",
    "        return 1/(len(y)*2) * np.square(y_hat - y)\n",
    "\n",
    "    def _computeGradient(self, X, y, y_hat):\n",
    "        return 1/len(y) * np.dot(X.T,(y_hat-y))\n",
    "\n",
    "    def _updateWeight(self, gradient):\n",
    "        return self.__W - (self.__lr * gradient)\n",
    "\n",
    "    def fit(self,X,y):\n",
    "        self.__W = np.array([0] * (X.shape[1]+1))\n",
    "        X = np.hstack([np.ones((len(X),1)),X])\n",
    "        for epoch in range(self.__epochs):\n",
    "            y_hat = self._predict(X)\n",
    "            loss = self._computeLoss(y,y_hat)\n",
    "            gradient = self._computeGradient(X,y,y_hat)\n",
    "            self.__W = self._updateWeight(gradient)\n",
    "            self.__losses.append(np.mean(loss))\n",
    "\n",
    "    def parameters(self):\n",
    "        return self.__W\n",
    "\n",
    "    def losses(self):\n",
    "        return self.__losses"
   ]
  },
  {
   "cell_type": "markdown",
   "metadata": {},
   "source": [
    "## 1.Load dataset\n"
   ]
  },
  {
   "cell_type": "code",
   "execution_count": 52,
   "metadata": {},
   "outputs": [
    {
     "data": {
      "text/html": [
       "<div>\n",
       "<style scoped>\n",
       "    .dataframe tbody tr th:only-of-type {\n",
       "        vertical-align: middle;\n",
       "    }\n",
       "\n",
       "    .dataframe tbody tr th {\n",
       "        vertical-align: top;\n",
       "    }\n",
       "\n",
       "    .dataframe thead th {\n",
       "        text-align: right;\n",
       "    }\n",
       "</style>\n",
       "<table border=\"1\" class=\"dataframe\">\n",
       "  <thead>\n",
       "    <tr style=\"text-align: right;\">\n",
       "      <th></th>\n",
       "      <th>TV</th>\n",
       "      <th>radio</th>\n",
       "      <th>newspaper</th>\n",
       "      <th>sales</th>\n",
       "    </tr>\n",
       "  </thead>\n",
       "  <tbody>\n",
       "    <tr>\n",
       "      <th>0</th>\n",
       "      <td>230.1</td>\n",
       "      <td>37.8</td>\n",
       "      <td>69.2</td>\n",
       "      <td>22.1</td>\n",
       "    </tr>\n",
       "    <tr>\n",
       "      <th>1</th>\n",
       "      <td>44.5</td>\n",
       "      <td>39.3</td>\n",
       "      <td>45.1</td>\n",
       "      <td>10.4</td>\n",
       "    </tr>\n",
       "    <tr>\n",
       "      <th>2</th>\n",
       "      <td>17.2</td>\n",
       "      <td>45.9</td>\n",
       "      <td>69.3</td>\n",
       "      <td>9.3</td>\n",
       "    </tr>\n",
       "    <tr>\n",
       "      <th>3</th>\n",
       "      <td>151.5</td>\n",
       "      <td>41.3</td>\n",
       "      <td>58.5</td>\n",
       "      <td>18.5</td>\n",
       "    </tr>\n",
       "    <tr>\n",
       "      <th>4</th>\n",
       "      <td>180.8</td>\n",
       "      <td>10.8</td>\n",
       "      <td>58.4</td>\n",
       "      <td>12.9</td>\n",
       "    </tr>\n",
       "  </tbody>\n",
       "</table>\n",
       "</div>"
      ],
      "text/plain": [
       "      TV  radio  newspaper  sales\n",
       "0  230.1   37.8       69.2   22.1\n",
       "1   44.5   39.3       45.1   10.4\n",
       "2   17.2   45.9       69.3    9.3\n",
       "3  151.5   41.3       58.5   18.5\n",
       "4  180.8   10.8       58.4   12.9"
      ]
     },
     "execution_count": 52,
     "metadata": {},
     "output_type": "execute_result"
    }
   ],
   "source": [
    "df = pd.read_csv('../datasets/Advertising.csv')\n",
    "df = df.iloc[:,1:]\n",
    "df.head()"
   ]
  },
  {
   "cell_type": "markdown",
   "metadata": {},
   "source": [
    "## 2. Normalize and split dataset into training and test set"
   ]
  },
  {
   "cell_type": "code",
   "execution_count": 53,
   "metadata": {},
   "outputs": [],
   "source": [
    "X = df.iloc[:,:3]\n",
    "y = df.iloc[:,-1]\n",
    "\n",
    "# Normal\n",
    "scaler = StandardScaler()\n",
    "X = scaler.fit_transform(X)\n",
    "# split\n",
    "X_train, X_val, y_train, y_val = train_test_split(X,y,random_state=42,test_size=0.3)"
   ]
  },
  {
   "cell_type": "markdown",
   "metadata": {},
   "source": [
    "## 3. Run model"
   ]
  },
  {
   "cell_type": "code",
   "execution_count": 57,
   "metadata": {},
   "outputs": [
    {
     "name": "stdout",
     "output_type": "stream",
     "text": [
      "Giá trị nhỏ nhất: 3.7798644797918586\n",
      "Chỉ số learing rate tại đó: 0.05\n"
     ]
    },
    {
     "data": {
      "image/png": "[encoded data removed]",
      "text/plain": [
       "<Figure size 640x480 with 1 Axes>"
      ]
     },
     "metadata": {},
     "output_type": "display_data"
    }
   ],
   "source": [
    "learning_rates = [0.001,0.005,0.01,0.05,0.1,0.5]\n",
    "epochs = 100\n",
    "mses = []\n",
    "for lr in learning_rates:\n",
    "    reg = LinearRegressor(lr=lr,epochs=epochs)\n",
    "    reg.fit(X_train,y_train)\n",
    "    y_pred = reg.predict(X_val)\n",
    "    mse = mean_squared_error(y_val,y_pred)\n",
    "    mses.append(mse)\n",
    "sns.barplot(x=learning_rates,y=mses)\n",
    "\n",
    "mses = np.array(mses)\n",
    "print(f\"Giá trị nhỏ nhất: {np.min(mses)}\")\n",
    "print(f\"Chỉ số learing rate tại đó: {learning_rates[ np.argmin(mses)]}\")\n",
    "\n",
    "plt.xlabel('Learning rate')\n",
    "plt.ylabel('MSE')\n",
    "plt.show()"
   ]
  }
 ],
 "metadata": {
  "kernelspec": {
   "display_name": "Python 3",
   "language": "python",
   "name": "python3"
  },
  "language_info": {
   "codemirror_mode": {
    "name": "ipython",
    "version": 3
   },
   "file_extension": ".py",
   "mimetype": "text/x-python",
   "name": "python",
   "nbconvert_exporter": "python",
   "pygments_lexer": "ipython3",
   "version": "3.11.7"
  }
 },
 "nbformat": 4,
 "nbformat_minor": 2
}
